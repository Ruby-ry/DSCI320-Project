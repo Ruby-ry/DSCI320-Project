{
 "cells": [
  {
   "cell_type": "code",
   "execution_count": 25,
   "id": "b63c73c2-d3c7-4b86-ba05-7cd708e377db",
   "metadata": {},
   "outputs": [],
   "source": [
    "import pandas as pd\n",
    "import altair as alt\n",
    "import numpy as np"
   ]
  },
  {
   "cell_type": "code",
   "execution_count": 34,
   "id": "39372688-a297-4d67-b716-cbaaa3470e44",
   "metadata": {},
   "outputs": [],
   "source": [
    "df = pd.read_csv('data/billionaires.csv', parse_dates=['birthDate'])\n",
    "df['education'] = df['education'].astype('Int64')"
   ]
  },
  {
   "cell_type": "code",
   "execution_count": 35,
   "id": "d26ac497-dffe-4393-b81b-071c1c78827d",
   "metadata": {},
   "outputs": [
    {
     "data": {
      "text/html": [
       "<div>\n",
       "<style scoped>\n",
       "    .dataframe tbody tr th:only-of-type {\n",
       "        vertical-align: middle;\n",
       "    }\n",
       "\n",
       "    .dataframe tbody tr th {\n",
       "        vertical-align: top;\n",
       "    }\n",
       "\n",
       "    .dataframe thead th {\n",
       "        text-align: right;\n",
       "    }\n",
       "</style>\n",
       "<table border=\"1\" class=\"dataframe\">\n",
       "  <thead>\n",
       "    <tr style=\"text-align: right;\">\n",
       "      <th></th>\n",
       "      <th>finalWorth</th>\n",
       "      <th>category</th>\n",
       "      <th>personName</th>\n",
       "      <th>age</th>\n",
       "      <th>country</th>\n",
       "      <th>source</th>\n",
       "      <th>industries</th>\n",
       "      <th>status</th>\n",
       "      <th>gender</th>\n",
       "      <th>birthDate</th>\n",
       "      <th>gdp_country</th>\n",
       "      <th>life_expectancy_country</th>\n",
       "      <th>total_tax_rate_country</th>\n",
       "      <th>economic_class</th>\n",
       "      <th>education</th>\n",
       "    </tr>\n",
       "  </thead>\n",
       "  <tbody>\n",
       "    <tr>\n",
       "      <th>0</th>\n",
       "      <td>211000</td>\n",
       "      <td>Fashion &amp; Retail</td>\n",
       "      <td>Bernard Arnault &amp; family</td>\n",
       "      <td>74.0</td>\n",
       "      <td>France</td>\n",
       "      <td>LVMH</td>\n",
       "      <td>Fashion &amp; Retail</td>\n",
       "      <td>U</td>\n",
       "      <td>M</td>\n",
       "      <td>1949-03-05</td>\n",
       "      <td>$2,715,518,274,227.00</td>\n",
       "      <td>82.5</td>\n",
       "      <td>60.7</td>\n",
       "      <td>1</td>\n",
       "      <td>3</td>\n",
       "    </tr>\n",
       "    <tr>\n",
       "      <th>1</th>\n",
       "      <td>80500</td>\n",
       "      <td>Fashion &amp; Retail</td>\n",
       "      <td>Francoise Bettencourt Meyers &amp; family</td>\n",
       "      <td>69.0</td>\n",
       "      <td>France</td>\n",
       "      <td>L'Oréal</td>\n",
       "      <td>Fashion &amp; Retail</td>\n",
       "      <td>U</td>\n",
       "      <td>F</td>\n",
       "      <td>1953-07-10</td>\n",
       "      <td>$2,715,518,274,227.00</td>\n",
       "      <td>82.5</td>\n",
       "      <td>60.7</td>\n",
       "      <td>1</td>\n",
       "      <td>&lt;NA&gt;</td>\n",
       "    </tr>\n",
       "    <tr>\n",
       "      <th>2</th>\n",
       "      <td>40100</td>\n",
       "      <td>Fashion &amp; Retail</td>\n",
       "      <td>François Pinault &amp; family</td>\n",
       "      <td>86.0</td>\n",
       "      <td>France</td>\n",
       "      <td>Luxury goods</td>\n",
       "      <td>Fashion &amp; Retail</td>\n",
       "      <td>D</td>\n",
       "      <td>M</td>\n",
       "      <td>1936-08-21</td>\n",
       "      <td>$2,715,518,274,227.00</td>\n",
       "      <td>82.5</td>\n",
       "      <td>60.7</td>\n",
       "      <td>1</td>\n",
       "      <td>0</td>\n",
       "    </tr>\n",
       "    <tr>\n",
       "      <th>3</th>\n",
       "      <td>22000</td>\n",
       "      <td>Food &amp; Beverage</td>\n",
       "      <td>Emmanuel Besnier</td>\n",
       "      <td>52.0</td>\n",
       "      <td>France</td>\n",
       "      <td>Cheese</td>\n",
       "      <td>Food &amp; Beverage</td>\n",
       "      <td>D</td>\n",
       "      <td>M</td>\n",
       "      <td>1970-09-18</td>\n",
       "      <td>$2,715,518,274,227.00</td>\n",
       "      <td>82.5</td>\n",
       "      <td>60.7</td>\n",
       "      <td>1</td>\n",
       "      <td>&lt;NA&gt;</td>\n",
       "    </tr>\n",
       "    <tr>\n",
       "      <th>4</th>\n",
       "      <td>9800</td>\n",
       "      <td>Logistics</td>\n",
       "      <td>Jacques Saadé, Jr.</td>\n",
       "      <td>51.0</td>\n",
       "      <td>France</td>\n",
       "      <td>Shipping</td>\n",
       "      <td>Logistics</td>\n",
       "      <td>Split Family Fortune</td>\n",
       "      <td>M</td>\n",
       "      <td>1971-08-10</td>\n",
       "      <td>$2,715,518,274,227.00</td>\n",
       "      <td>82.5</td>\n",
       "      <td>60.7</td>\n",
       "      <td>1</td>\n",
       "      <td>&lt;NA&gt;</td>\n",
       "    </tr>\n",
       "  </tbody>\n",
       "</table>\n",
       "</div>"
      ],
      "text/plain": [
       "   finalWorth          category                             personName   age  \\\n",
       "0      211000  Fashion & Retail               Bernard Arnault & family  74.0   \n",
       "1       80500  Fashion & Retail  Francoise Bettencourt Meyers & family  69.0   \n",
       "2       40100  Fashion & Retail              François Pinault & family  86.0   \n",
       "3       22000   Food & Beverage                       Emmanuel Besnier  52.0   \n",
       "4        9800         Logistics                     Jacques Saadé, Jr.  51.0   \n",
       "\n",
       "  country        source        industries                status gender  \\\n",
       "0  France          LVMH  Fashion & Retail                     U      M   \n",
       "1  France       L'Oréal  Fashion & Retail                     U      F   \n",
       "2  France  Luxury goods  Fashion & Retail                     D      M   \n",
       "3  France        Cheese   Food & Beverage                     D      M   \n",
       "4  France      Shipping         Logistics  Split Family Fortune      M   \n",
       "\n",
       "   birthDate            gdp_country  life_expectancy_country  \\\n",
       "0 1949-03-05  $2,715,518,274,227.00                     82.5   \n",
       "1 1953-07-10  $2,715,518,274,227.00                     82.5   \n",
       "2 1936-08-21  $2,715,518,274,227.00                     82.5   \n",
       "3 1970-09-18  $2,715,518,274,227.00                     82.5   \n",
       "4 1971-08-10  $2,715,518,274,227.00                     82.5   \n",
       "\n",
       "   total_tax_rate_country  economic_class  education  \n",
       "0                    60.7               1          3  \n",
       "1                    60.7               1       <NA>  \n",
       "2                    60.7               1          0  \n",
       "3                    60.7               1       <NA>  \n",
       "4                    60.7               1       <NA>  "
      ]
     },
     "execution_count": 35,
     "metadata": {},
     "output_type": "execute_result"
    }
   ],
   "source": [
    "df.head()"
   ]
  },
  {
   "cell_type": "code",
   "execution_count": 36,
   "id": "936fe24a-0512-4f4e-8f26-b279899eca1b",
   "metadata": {},
   "outputs": [
    {
     "data": {
      "text/plain": [
       "(2657, 15)"
      ]
     },
     "execution_count": 36,
     "metadata": {},
     "output_type": "execute_result"
    }
   ],
   "source": [
    "df.shape"
   ]
  },
  {
   "cell_type": "code",
   "execution_count": 37,
   "id": "201d18a3-4026-455f-aaac-91e745795e2e",
   "metadata": {},
   "outputs": [
    {
     "name": "stdout",
     "output_type": "stream",
     "text": [
      "<class 'pandas.core.frame.DataFrame'>\n",
      "RangeIndex: 2657 entries, 0 to 2656\n",
      "Data columns (total 15 columns):\n",
      " #   Column                   Non-Null Count  Dtype         \n",
      "---  ------                   --------------  -----         \n",
      " 0   finalWorth               2657 non-null   int64         \n",
      " 1   category                 2657 non-null   object        \n",
      " 2   personName               2657 non-null   object        \n",
      " 3   age                      2604 non-null   float64       \n",
      " 4   country                  2657 non-null   object        \n",
      " 5   source                   2657 non-null   object        \n",
      " 6   industries               2657 non-null   object        \n",
      " 7   status                   2657 non-null   object        \n",
      " 8   gender                   2657 non-null   object        \n",
      " 9   birthDate                2593 non-null   datetime64[ns]\n",
      " 10  gdp_country              2545 non-null   object        \n",
      " 11  life_expectancy_country  2545 non-null   float64       \n",
      " 12  total_tax_rate_country   2545 non-null   float64       \n",
      " 13  economic_class           2657 non-null   int64         \n",
      " 14  education                1176 non-null   Int64         \n",
      "dtypes: Int64(1), datetime64[ns](1), float64(3), int64(2), object(8)\n",
      "memory usage: 314.1+ KB\n"
     ]
    }
   ],
   "source": [
    "df.info()"
   ]
  },
  {
   "cell_type": "code",
   "execution_count": 26,
   "id": "adc228be-415d-493d-a5b8-96514fa688c2",
   "metadata": {},
   "outputs": [],
   "source": [
    "df = df.replace('', np.nan, regex=True)"
   ]
  },
  {
   "cell_type": "code",
   "execution_count": 17,
   "id": "fadda60d-d32e-497b-9d6a-2686e2adcdc1",
   "metadata": {},
   "outputs": [],
   "source": [
    "# for column in df.columns:\n",
    "#     freq = df[column].value_counts() \n",
    "#     print(freq)"
   ]
  },
  {
   "cell_type": "code",
   "execution_count": 41,
   "id": "79788598-9f7f-454a-9579-e58c0f8bbc1f",
   "metadata": {},
   "outputs": [
    {
     "data": {
      "text/plain": [
       "category\n",
       "Finance & Investments         367\n",
       "Technology                    331\n",
       "Manufacturing                 323\n",
       "Fashion & Retail              267\n",
       "Food & Beverage               207\n",
       "Healthcare                    203\n",
       "Diversified                   198\n",
       "Real Estate                   191\n",
       "Energy                         99\n",
       "Media & Entertainment          92\n",
       "Automotive                     77\n",
       "Metals & Mining                76\n",
       "Service                        49\n",
       "Construction & Engineering     44\n",
       "Logistics                      39\n",
       "Sports                         38\n",
       "Telecom                        31\n",
       "Gambling & Casinos             25\n",
       "Name: count, dtype: int64"
      ]
     },
     "execution_count": 41,
     "metadata": {},
     "output_type": "execute_result"
    }
   ],
   "source": [
    "df['category'].value_counts(dropna=False)"
   ]
  },
  {
   "cell_type": "code",
   "execution_count": 12,
   "id": "c23c7bc1-63ef-4e72-82f1-4896e78b9b74",
   "metadata": {},
   "outputs": [
    {
     "data": {
      "text/plain": [
       "Index(['finalWorth', 'category', 'personName', 'age', 'country', 'source',\n",
       "       'industries', 'status', 'gender', 'birthDate', 'gdp_country',\n",
       "       'life_expectancy_country', 'total_tax_rate_country', 'economic_class',\n",
       "       'education'],\n",
       "      dtype='object')"
      ]
     },
     "execution_count": 12,
     "metadata": {},
     "output_type": "execute_result"
    }
   ],
   "source": [
    "df.columns"
   ]
  },
  {
   "cell_type": "code",
   "execution_count": 43,
   "id": "eb12732a-d092-45dd-9f4b-0471564fd099",
   "metadata": {},
   "outputs": [],
   "source": [
    "numeric_columns = ['finalWorth', 'age', 'birthDate', 'gdp_country',\n",
    "       'life_expectancy_country', 'total_tax_rate_country']"
   ]
  },
  {
   "cell_type": "code",
   "execution_count": 44,
   "id": "48bb016d-558e-40e9-90eb-9ea78c3a38eb",
   "metadata": {},
   "outputs": [
    {
     "data": {
      "text/html": [
       "<div>\n",
       "<style scoped>\n",
       "    .dataframe tbody tr th:only-of-type {\n",
       "        vertical-align: middle;\n",
       "    }\n",
       "\n",
       "    .dataframe tbody tr th {\n",
       "        vertical-align: top;\n",
       "    }\n",
       "\n",
       "    .dataframe thead th {\n",
       "        text-align: right;\n",
       "    }\n",
       "</style>\n",
       "<table border=\"1\" class=\"dataframe\">\n",
       "  <thead>\n",
       "    <tr style=\"text-align: right;\">\n",
       "      <th></th>\n",
       "      <th>finalWorth</th>\n",
       "      <th>age</th>\n",
       "      <th>birthDate</th>\n",
       "      <th>life_expectancy_country</th>\n",
       "      <th>total_tax_rate_country</th>\n",
       "    </tr>\n",
       "  </thead>\n",
       "  <tbody>\n",
       "    <tr>\n",
       "      <th>count</th>\n",
       "      <td>2657.000000</td>\n",
       "      <td>2604.000000</td>\n",
       "      <td>2593</td>\n",
       "      <td>2545.000000</td>\n",
       "      <td>2545.000000</td>\n",
       "    </tr>\n",
       "    <tr>\n",
       "      <th>mean</th>\n",
       "      <td>4605.193828</td>\n",
       "      <td>65.049539</td>\n",
       "      <td>1957-09-12 13:23:12.518318528</td>\n",
       "      <td>78.171984</td>\n",
       "      <td>43.592692</td>\n",
       "    </tr>\n",
       "    <tr>\n",
       "      <th>min</th>\n",
       "      <td>1000.000000</td>\n",
       "      <td>18.000000</td>\n",
       "      <td>1921-09-11 00:00:00</td>\n",
       "      <td>54.300000</td>\n",
       "      <td>11.300000</td>\n",
       "    </tr>\n",
       "    <tr>\n",
       "      <th>25%</th>\n",
       "      <td>1500.000000</td>\n",
       "      <td>56.000000</td>\n",
       "      <td>1948-04-04 00:00:00</td>\n",
       "      <td>77.000000</td>\n",
       "      <td>36.600000</td>\n",
       "    </tr>\n",
       "    <tr>\n",
       "      <th>50%</th>\n",
       "      <td>2300.000000</td>\n",
       "      <td>65.000000</td>\n",
       "      <td>1957-12-14 00:00:00</td>\n",
       "      <td>78.500000</td>\n",
       "      <td>37.900000</td>\n",
       "    </tr>\n",
       "    <tr>\n",
       "      <th>75%</th>\n",
       "      <td>4200.000000</td>\n",
       "      <td>74.000000</td>\n",
       "      <td>1966-10-23 00:00:00</td>\n",
       "      <td>80.900000</td>\n",
       "      <td>59.100000</td>\n",
       "    </tr>\n",
       "    <tr>\n",
       "      <th>max</th>\n",
       "      <td>211000.000000</td>\n",
       "      <td>101.000000</td>\n",
       "      <td>2004-05-06 00:00:00</td>\n",
       "      <td>84.200000</td>\n",
       "      <td>106.300000</td>\n",
       "    </tr>\n",
       "    <tr>\n",
       "      <th>std</th>\n",
       "      <td>9800.137699</td>\n",
       "      <td>13.145578</td>\n",
       "      <td>NaN</td>\n",
       "      <td>3.831262</td>\n",
       "      <td>12.194792</td>\n",
       "    </tr>\n",
       "  </tbody>\n",
       "</table>\n",
       "</div>"
      ],
      "text/plain": [
       "          finalWorth          age                      birthDate  \\\n",
       "count    2657.000000  2604.000000                           2593   \n",
       "mean     4605.193828    65.049539  1957-09-12 13:23:12.518318528   \n",
       "min      1000.000000    18.000000            1921-09-11 00:00:00   \n",
       "25%      1500.000000    56.000000            1948-04-04 00:00:00   \n",
       "50%      2300.000000    65.000000            1957-12-14 00:00:00   \n",
       "75%      4200.000000    74.000000            1966-10-23 00:00:00   \n",
       "max    211000.000000   101.000000            2004-05-06 00:00:00   \n",
       "std      9800.137699    13.145578                            NaN   \n",
       "\n",
       "       life_expectancy_country  total_tax_rate_country  \n",
       "count              2545.000000             2545.000000  \n",
       "mean                 78.171984               43.592692  \n",
       "min                  54.300000               11.300000  \n",
       "25%                  77.000000               36.600000  \n",
       "50%                  78.500000               37.900000  \n",
       "75%                  80.900000               59.100000  \n",
       "max                  84.200000              106.300000  \n",
       "std                   3.831262               12.194792  "
      ]
     },
     "execution_count": 44,
     "metadata": {},
     "output_type": "execute_result"
    }
   ],
   "source": [
    "# central tendencies\n",
    "df[numeric_columns].describe()"
   ]
  },
  {
   "cell_type": "code",
   "execution_count": null,
   "id": "e87bab69-1e0f-40fa-bed8-2be88aace070",
   "metadata": {},
   "outputs": [],
   "source": []
  }
 ],
 "metadata": {
  "kernelspec": {
   "display_name": "Python [conda env:320] *",
   "language": "python",
   "name": "conda-env-320-py"
  },
  "language_info": {
   "codemirror_mode": {
    "name": "ipython",
    "version": 3
   },
   "file_extension": ".py",
   "mimetype": "text/x-python",
   "name": "python",
   "nbconvert_exporter": "python",
   "pygments_lexer": "ipython3",
   "version": "3.9.18"
  }
 },
 "nbformat": 4,
 "nbformat_minor": 5
}
