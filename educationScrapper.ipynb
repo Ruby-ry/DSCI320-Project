{
 "cells": [
  {
   "cell_type": "code",
   "execution_count": 1,
   "id": "94cc200e-e098-45e5-b9c5-f94fa098e62a",
   "metadata": {},
   "outputs": [],
   "source": [
    "import requests\n",
    "import pandas as pd\n",
    "from bs4 import BeautifulSoup"
   ]
  },
  {
   "cell_type": "code",
   "execution_count": 2,
   "id": "8ec71608-2e03-4fea-8d1b-45fa9ca5246d",
   "metadata": {},
   "outputs": [],
   "source": [
    "def get_econ(url_string):\n",
    "    # get wikipedia page\n",
    "    response = requests.get(\n",
    "        url=url_string,\n",
    "    )\n",
    "    # init bs object\n",
    "    soup = BeautifulSoup(response.content, 'html.parser')\n",
    "    countries = []\n",
    "    first = 0\n",
    "\n",
    "\n",
    "    if ('developed' in url_string.lower()):\n",
    "        table = soup.find('table',{'class':'wikitable'}).find_all('a')\n",
    "        first = 9\n",
    "    if ('emerging' in url_string.lower()):\n",
    "        table = soup.find('table',{'class':'wikitable sortable'}).find_all('a')\n",
    "        first = 16\n",
    "    if ('frontier' in url_string.lower()):\n",
    "        table = soup.find('table',{'class':'sortable wikitable'}).find_all('a')\n",
    "        first = 16\n",
    "        \n",
    "    for link in table:\n",
    "        countries.append(link.get('title'))\n",
    "\n",
    "    \n",
    "    return countries[first:]"
   ]
  },
  {
   "cell_type": "code",
   "execution_count": 3,
   "id": "a640a046-7ec8-452c-b1ea-a73221336327",
   "metadata": {},
   "outputs": [],
   "source": [
    "pages = [\"https://en.wikipedia.org/wiki/Developed_market\",\n",
    "        \"https://en.wikipedia.org/wiki/Emerging_market\",\n",
    "    \"https://en.wikipedia.org/wiki/Frontier_markets\",\n",
    "    # \"least\":\"https://en.wikipedia.org/wiki/Least_developed_countries\" # no countries in this so we don't scrap\n",
    "        ]"
   ]
  },
  {
   "cell_type": "code",
   "execution_count": 4,
   "id": "16ce5bdf-dc77-4de0-8c10-37bb9f743688",
   "metadata": {},
   "outputs": [],
   "source": [
    "developed = pd.DataFrame(get_econ(pages[0]), columns=['country']).dropna()\n",
    "developed.insert(1, 'economic_class', 1)"
   ]
  },
  {
   "cell_type": "code",
   "execution_count": 5,
   "id": "4cb4cdf2-4bfe-400b-bde7-8e645ebf4c8a",
   "metadata": {},
   "outputs": [],
   "source": [
    "emerging = pd.DataFrame(get_econ(pages[1]), columns=['country'])\n",
    "emerging.insert(1, 'economic_class', 2)"
   ]
  },
  {
   "cell_type": "code",
   "execution_count": 6,
   "id": "d93a5038-a05d-4ea7-833e-1a410b2f4e94",
   "metadata": {},
   "outputs": [],
   "source": [
    "frontier = pd.DataFrame(get_econ(pages[2]), columns=['country']).dropna()\n",
    "frontier.insert(1, 'economic_class', 3)"
   ]
  },
  {
   "cell_type": "code",
   "execution_count": 7,
   "id": "ecbe2910-0784-4ef9-9dd9-6fbf304ad329",
   "metadata": {},
   "outputs": [],
   "source": [
    "total = pd.concat([developed, emerging, frontier])"
   ]
  },
  {
   "cell_type": "code",
   "execution_count": 8,
   "id": "766df77e-4ca6-4310-b100-f4c4b90aadae",
   "metadata": {},
   "outputs": [
    {
     "name": "stdout",
     "output_type": "stream",
     "text": [
      "<class 'pandas.core.frame.DataFrame'>\n",
      "Index: 108 entries, 0 to 46\n",
      "Data columns (total 2 columns):\n",
      " #   Column          Non-Null Count  Dtype \n",
      "---  ------          --------------  ----- \n",
      " 0   country         108 non-null    object\n",
      " 1   economic_class  108 non-null    int64 \n",
      "dtypes: int64(1), object(1)\n",
      "memory usage: 2.5+ KB\n"
     ]
    }
   ],
   "source": [
    "total.info()"
   ]
  },
  {
   "cell_type": "code",
   "execution_count": 9,
   "id": "89b5faa9-7aab-4f04-85e6-01324b795770",
   "metadata": {},
   "outputs": [],
   "source": [
    "billionaires = pd.read_csv('data/old/billionaires_subset.csv', parse_dates=['birthDate'])"
   ]
  },
  {
   "cell_type": "code",
   "execution_count": 10,
   "id": "3502dc6c-013b-4825-8485-e0e9dce9b50e",
   "metadata": {},
   "outputs": [
    {
     "data": {
      "text/html": [
       "<div>\n",
       "<style scoped>\n",
       "    .dataframe tbody tr th:only-of-type {\n",
       "        vertical-align: middle;\n",
       "    }\n",
       "\n",
       "    .dataframe tbody tr th {\n",
       "        vertical-align: top;\n",
       "    }\n",
       "\n",
       "    .dataframe thead th {\n",
       "        text-align: right;\n",
       "    }\n",
       "</style>\n",
       "<table border=\"1\" class=\"dataframe\">\n",
       "  <thead>\n",
       "    <tr style=\"text-align: right;\">\n",
       "      <th></th>\n",
       "      <th>rank</th>\n",
       "      <th>finalWorth</th>\n",
       "      <th>category</th>\n",
       "      <th>personName</th>\n",
       "      <th>age</th>\n",
       "      <th>country</th>\n",
       "      <th>source</th>\n",
       "      <th>industries</th>\n",
       "      <th>status</th>\n",
       "      <th>gender</th>\n",
       "      <th>birthDate</th>\n",
       "      <th>gdp_country</th>\n",
       "      <th>life_expectancy_country</th>\n",
       "      <th>total_tax_rate_country</th>\n",
       "    </tr>\n",
       "  </thead>\n",
       "  <tbody>\n",
       "    <tr>\n",
       "      <th>0</th>\n",
       "      <td>1</td>\n",
       "      <td>211000</td>\n",
       "      <td>Fashion &amp; Retail</td>\n",
       "      <td>Bernard Arnault &amp; family</td>\n",
       "      <td>74.0</td>\n",
       "      <td>France</td>\n",
       "      <td>LVMH</td>\n",
       "      <td>Fashion &amp; Retail</td>\n",
       "      <td>U</td>\n",
       "      <td>M</td>\n",
       "      <td>1949-03-05</td>\n",
       "      <td>$2,715,518,274,227.00</td>\n",
       "      <td>82.5</td>\n",
       "      <td>60.7</td>\n",
       "    </tr>\n",
       "    <tr>\n",
       "      <th>1</th>\n",
       "      <td>2</td>\n",
       "      <td>180000</td>\n",
       "      <td>Automotive</td>\n",
       "      <td>Elon Musk</td>\n",
       "      <td>51.0</td>\n",
       "      <td>United States</td>\n",
       "      <td>Tesla, SpaceX</td>\n",
       "      <td>Automotive</td>\n",
       "      <td>D</td>\n",
       "      <td>M</td>\n",
       "      <td>1971-06-28</td>\n",
       "      <td>$21,427,700,000,000.00</td>\n",
       "      <td>78.5</td>\n",
       "      <td>36.6</td>\n",
       "    </tr>\n",
       "    <tr>\n",
       "      <th>2</th>\n",
       "      <td>3</td>\n",
       "      <td>114000</td>\n",
       "      <td>Technology</td>\n",
       "      <td>Jeff Bezos</td>\n",
       "      <td>59.0</td>\n",
       "      <td>United States</td>\n",
       "      <td>Amazon</td>\n",
       "      <td>Technology</td>\n",
       "      <td>D</td>\n",
       "      <td>M</td>\n",
       "      <td>1964-01-12</td>\n",
       "      <td>$21,427,700,000,000.00</td>\n",
       "      <td>78.5</td>\n",
       "      <td>36.6</td>\n",
       "    </tr>\n",
       "    <tr>\n",
       "      <th>3</th>\n",
       "      <td>4</td>\n",
       "      <td>107000</td>\n",
       "      <td>Technology</td>\n",
       "      <td>Larry Ellison</td>\n",
       "      <td>78.0</td>\n",
       "      <td>United States</td>\n",
       "      <td>Oracle</td>\n",
       "      <td>Technology</td>\n",
       "      <td>U</td>\n",
       "      <td>M</td>\n",
       "      <td>1944-08-17</td>\n",
       "      <td>$21,427,700,000,000.00</td>\n",
       "      <td>78.5</td>\n",
       "      <td>36.6</td>\n",
       "    </tr>\n",
       "    <tr>\n",
       "      <th>4</th>\n",
       "      <td>5</td>\n",
       "      <td>106000</td>\n",
       "      <td>Finance &amp; Investments</td>\n",
       "      <td>Warren Buffett</td>\n",
       "      <td>92.0</td>\n",
       "      <td>United States</td>\n",
       "      <td>Berkshire Hathaway</td>\n",
       "      <td>Finance &amp; Investments</td>\n",
       "      <td>D</td>\n",
       "      <td>M</td>\n",
       "      <td>1930-08-30</td>\n",
       "      <td>$21,427,700,000,000.00</td>\n",
       "      <td>78.5</td>\n",
       "      <td>36.6</td>\n",
       "    </tr>\n",
       "  </tbody>\n",
       "</table>\n",
       "</div>"
      ],
      "text/plain": [
       "   rank  finalWorth               category                personName   age  \\\n",
       "0     1      211000       Fashion & Retail  Bernard Arnault & family  74.0   \n",
       "1     2      180000             Automotive                 Elon Musk  51.0   \n",
       "2     3      114000             Technology                Jeff Bezos  59.0   \n",
       "3     4      107000             Technology             Larry Ellison  78.0   \n",
       "4     5      106000  Finance & Investments            Warren Buffett  92.0   \n",
       "\n",
       "         country              source             industries status gender  \\\n",
       "0         France                LVMH       Fashion & Retail      U      M   \n",
       "1  United States       Tesla, SpaceX             Automotive      D      M   \n",
       "2  United States              Amazon             Technology      D      M   \n",
       "3  United States              Oracle             Technology      U      M   \n",
       "4  United States  Berkshire Hathaway  Finance & Investments      D      M   \n",
       "\n",
       "   birthDate             gdp_country  life_expectancy_country  \\\n",
       "0 1949-03-05   $2,715,518,274,227.00                     82.5   \n",
       "1 1971-06-28  $21,427,700,000,000.00                     78.5   \n",
       "2 1964-01-12  $21,427,700,000,000.00                     78.5   \n",
       "3 1944-08-17  $21,427,700,000,000.00                     78.5   \n",
       "4 1930-08-30  $21,427,700,000,000.00                     78.5   \n",
       "\n",
       "   total_tax_rate_country  \n",
       "0                    60.7  \n",
       "1                    36.6  \n",
       "2                    36.6  \n",
       "3                    36.6  \n",
       "4                    36.6  "
      ]
     },
     "execution_count": 10,
     "metadata": {},
     "output_type": "execute_result"
    }
   ],
   "source": [
    "billionaires.head()"
   ]
  },
  {
   "cell_type": "code",
   "execution_count": 11,
   "id": "ac595465-66b6-4b45-9a1e-1b902497c0fa",
   "metadata": {},
   "outputs": [],
   "source": [
    "df = pd.merge(billionaires, total, left_on='country', right_on='country')"
   ]
  },
  {
   "cell_type": "code",
   "execution_count": 12,
   "id": "ce50ee58-41ee-4195-9b98-15aa3c1658a2",
   "metadata": {},
   "outputs": [
    {
     "name": "stdout",
     "output_type": "stream",
     "text": [
      "<class 'pandas.core.frame.DataFrame'>\n",
      "RangeIndex: 2652 entries, 0 to 2651\n",
      "Data columns (total 15 columns):\n",
      " #   Column                   Non-Null Count  Dtype         \n",
      "---  ------                   --------------  -----         \n",
      " 0   rank                     2652 non-null   int64         \n",
      " 1   finalWorth               2652 non-null   int64         \n",
      " 2   category                 2652 non-null   object        \n",
      " 3   personName               2652 non-null   object        \n",
      " 4   age                      2599 non-null   float64       \n",
      " 5   country                  2652 non-null   object        \n",
      " 6   source                   2652 non-null   object        \n",
      " 7   industries               2652 non-null   object        \n",
      " 8   status                   2652 non-null   object        \n",
      " 9   gender                   2652 non-null   object        \n",
      " 10  birthDate                2588 non-null   datetime64[ns]\n",
      " 11  gdp_country              2541 non-null   object        \n",
      " 12  life_expectancy_country  2541 non-null   float64       \n",
      " 13  total_tax_rate_country   2541 non-null   float64       \n",
      " 14  economic_class           2652 non-null   int64         \n",
      "dtypes: datetime64[ns](1), float64(3), int64(3), object(8)\n",
      "memory usage: 310.9+ KB\n"
     ]
    }
   ],
   "source": [
    "df.info()"
   ]
  },
  {
   "cell_type": "code",
   "execution_count": 13,
   "id": "07fe2a1b-fd14-4566-842c-d7ac30389b08",
   "metadata": {},
   "outputs": [],
   "source": [
    "edu = pd.read_csv('data/old/edu_numbered.csv')"
   ]
  },
  {
   "cell_type": "code",
   "execution_count": 14,
   "id": "e95674d0-ee1e-4a08-bc35-b0230b5e6b65",
   "metadata": {},
   "outputs": [],
   "source": [
    "df = pd.merge(df, edu, how='left', left_on='personName', right_on='Name')\n",
    "df = df.rename(columns={'Education': 'education'})\n",
    "# not dropping NA values for now"
   ]
  },
  {
   "cell_type": "code",
   "execution_count": 15,
   "id": "8fffa52a-2d6b-40bb-bc4d-4e862f7709b0",
   "metadata": {},
   "outputs": [],
   "source": [
    "df = df.drop(columns=['rank', 'Name'])"
   ]
  },
  {
   "cell_type": "code",
   "execution_count": 16,
   "id": "7b247d9d-fe33-4c75-b2f7-3b962ad0a5db",
   "metadata": {},
   "outputs": [],
   "source": [
    "# df['Education'] = df['Education'].str.split(' ').str[0]"
   ]
  },
  {
   "cell_type": "code",
   "execution_count": 17,
   "id": "a07ca802-d3a0-458c-838c-642c016e25cd",
   "metadata": {},
   "outputs": [
    {
     "name": "stdout",
     "output_type": "stream",
     "text": [
      "<class 'pandas.core.frame.DataFrame'>\n",
      "RangeIndex: 2657 entries, 0 to 2656\n",
      "Data columns (total 15 columns):\n",
      " #   Column                   Non-Null Count  Dtype         \n",
      "---  ------                   --------------  -----         \n",
      " 0   finalWorth               2657 non-null   int64         \n",
      " 1   category                 2657 non-null   object        \n",
      " 2   personName               2657 non-null   object        \n",
      " 3   age                      2604 non-null   float64       \n",
      " 4   country                  2657 non-null   object        \n",
      " 5   source                   2657 non-null   object        \n",
      " 6   industries               2657 non-null   object        \n",
      " 7   status                   2657 non-null   object        \n",
      " 8   gender                   2657 non-null   object        \n",
      " 9   birthDate                2593 non-null   datetime64[ns]\n",
      " 10  gdp_country              2545 non-null   object        \n",
      " 11  life_expectancy_country  2545 non-null   float64       \n",
      " 12  total_tax_rate_country   2545 non-null   float64       \n",
      " 13  economic_class           2657 non-null   int64         \n",
      " 14  education                1176 non-null   object        \n",
      "dtypes: datetime64[ns](1), float64(3), int64(2), object(9)\n",
      "memory usage: 311.5+ KB\n"
     ]
    }
   ],
   "source": [
    "df.info()"
   ]
  },
  {
   "cell_type": "code",
   "execution_count": 18,
   "id": "84d0b3fc-fe64-4561-88b0-d019dab96e53",
   "metadata": {},
   "outputs": [
    {
     "data": {
      "text/html": [
       "<div>\n",
       "<style scoped>\n",
       "    .dataframe tbody tr th:only-of-type {\n",
       "        vertical-align: middle;\n",
       "    }\n",
       "\n",
       "    .dataframe tbody tr th {\n",
       "        vertical-align: top;\n",
       "    }\n",
       "\n",
       "    .dataframe thead th {\n",
       "        text-align: right;\n",
       "    }\n",
       "</style>\n",
       "<table border=\"1\" class=\"dataframe\">\n",
       "  <thead>\n",
       "    <tr style=\"text-align: right;\">\n",
       "      <th></th>\n",
       "      <th>finalWorth</th>\n",
       "      <th>category</th>\n",
       "      <th>personName</th>\n",
       "      <th>age</th>\n",
       "      <th>country</th>\n",
       "      <th>source</th>\n",
       "      <th>industries</th>\n",
       "      <th>status</th>\n",
       "      <th>gender</th>\n",
       "      <th>birthDate</th>\n",
       "      <th>gdp_country</th>\n",
       "      <th>life_expectancy_country</th>\n",
       "      <th>total_tax_rate_country</th>\n",
       "      <th>economic_class</th>\n",
       "      <th>education</th>\n",
       "    </tr>\n",
       "  </thead>\n",
       "  <tbody>\n",
       "    <tr>\n",
       "      <th>0</th>\n",
       "      <td>211000</td>\n",
       "      <td>Fashion &amp; Retail</td>\n",
       "      <td>Bernard Arnault &amp; family</td>\n",
       "      <td>74.0</td>\n",
       "      <td>France</td>\n",
       "      <td>LVMH</td>\n",
       "      <td>Fashion &amp; Retail</td>\n",
       "      <td>U</td>\n",
       "      <td>M</td>\n",
       "      <td>1949-03-05</td>\n",
       "      <td>$2,715,518,274,227.00</td>\n",
       "      <td>82.5</td>\n",
       "      <td>60.7</td>\n",
       "      <td>1</td>\n",
       "      <td>3</td>\n",
       "    </tr>\n",
       "    <tr>\n",
       "      <th>1</th>\n",
       "      <td>80500</td>\n",
       "      <td>Fashion &amp; Retail</td>\n",
       "      <td>Francoise Bettencourt Meyers &amp; family</td>\n",
       "      <td>69.0</td>\n",
       "      <td>France</td>\n",
       "      <td>L'Oréal</td>\n",
       "      <td>Fashion &amp; Retail</td>\n",
       "      <td>U</td>\n",
       "      <td>F</td>\n",
       "      <td>1953-07-10</td>\n",
       "      <td>$2,715,518,274,227.00</td>\n",
       "      <td>82.5</td>\n",
       "      <td>60.7</td>\n",
       "      <td>1</td>\n",
       "      <td>NaN</td>\n",
       "    </tr>\n",
       "    <tr>\n",
       "      <th>2</th>\n",
       "      <td>40100</td>\n",
       "      <td>Fashion &amp; Retail</td>\n",
       "      <td>François Pinault &amp; family</td>\n",
       "      <td>86.0</td>\n",
       "      <td>France</td>\n",
       "      <td>Luxury goods</td>\n",
       "      <td>Fashion &amp; Retail</td>\n",
       "      <td>D</td>\n",
       "      <td>M</td>\n",
       "      <td>1936-08-21</td>\n",
       "      <td>$2,715,518,274,227.00</td>\n",
       "      <td>82.5</td>\n",
       "      <td>60.7</td>\n",
       "      <td>1</td>\n",
       "      <td>0</td>\n",
       "    </tr>\n",
       "  </tbody>\n",
       "</table>\n",
       "</div>"
      ],
      "text/plain": [
       "   finalWorth          category                             personName   age  \\\n",
       "0      211000  Fashion & Retail               Bernard Arnault & family  74.0   \n",
       "1       80500  Fashion & Retail  Francoise Bettencourt Meyers & family  69.0   \n",
       "2       40100  Fashion & Retail              François Pinault & family  86.0   \n",
       "\n",
       "  country        source        industries status gender  birthDate  \\\n",
       "0  France          LVMH  Fashion & Retail      U      M 1949-03-05   \n",
       "1  France       L'Oréal  Fashion & Retail      U      F 1953-07-10   \n",
       "2  France  Luxury goods  Fashion & Retail      D      M 1936-08-21   \n",
       "\n",
       "             gdp_country  life_expectancy_country  total_tax_rate_country  \\\n",
       "0  $2,715,518,274,227.00                     82.5                    60.7   \n",
       "1  $2,715,518,274,227.00                     82.5                    60.7   \n",
       "2  $2,715,518,274,227.00                     82.5                    60.7   \n",
       "\n",
       "   economic_class education  \n",
       "0               1         3  \n",
       "1               1       NaN  \n",
       "2               1         0  "
      ]
     },
     "execution_count": 18,
     "metadata": {},
     "output_type": "execute_result"
    }
   ],
   "source": [
    "df.head(3)"
   ]
  },
  {
   "cell_type": "code",
   "execution_count": 19,
   "id": "6c9ef2fe-2f77-4622-abe5-808114cf5a90",
   "metadata": {},
   "outputs": [
    {
     "data": {
      "text/plain": [
       "array(['3', nan, '0', '2', '4', '1', '5'], dtype=object)"
      ]
     },
     "execution_count": 19,
     "metadata": {},
     "output_type": "execute_result"
    }
   ],
   "source": [
    "df['education'].unique()"
   ]
  },
  {
   "cell_type": "code",
   "execution_count": 20,
   "id": "fd1f1576-54dd-43bb-a2ab-68169fb0deac",
   "metadata": {},
   "outputs": [],
   "source": [
    "df.to_csv('billionaires.csv', encoding='utf-8',index=False)"
   ]
  },
  {
   "cell_type": "code",
   "execution_count": null,
   "id": "c434d6f3-960d-4537-94b7-8293d0c05abf",
   "metadata": {},
   "outputs": [],
   "source": []
  }
 ],
 "metadata": {
  "kernelspec": {
   "display_name": "Python [conda env:320] *",
   "language": "python",
   "name": "conda-env-320-py"
  },
  "language_info": {
   "codemirror_mode": {
    "name": "ipython",
    "version": 3
   },
   "file_extension": ".py",
   "mimetype": "text/x-python",
   "name": "python",
   "nbconvert_exporter": "python",
   "pygments_lexer": "ipython3",
   "version": "3.9.18"
  }
 },
 "nbformat": 4,
 "nbformat_minor": 5
}
