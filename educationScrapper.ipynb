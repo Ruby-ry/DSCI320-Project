{
 "cells": [
  {
   "cell_type": "code",
   "execution_count": 1,
   "id": "94cc200e-e098-45e5-b9c5-f94fa098e62a",
   "metadata": {},
   "outputs": [],
   "source": [
    "import requests\n",
    "import pandas as pd\n",
    "from bs4 import BeautifulSoup"
   ]
  },
  {
   "cell_type": "code",
   "execution_count": 2,
   "id": "8ec71608-2e03-4fea-8d1b-45fa9ca5246d",
   "metadata": {},
   "outputs": [],
   "source": [
    "def get_econ(url_string):\n",
    "    # get wikipedia page\n",
    "    response = requests.get(\n",
    "        url=url_string,\n",
    "    )\n",
    "    # init bs object\n",
    "    soup = BeautifulSoup(response.content, 'html.parser')\n",
    "    countries = []\n",
    "    first = 0\n",
    "\n",
    "\n",
    "    if ('developed' in url_string.lower()):\n",
    "        table = soup.find('table',{'class':'wikitable'}).find_all('a')\n",
    "        first = 9\n",
    "    if ('emerging' in url_string.lower()):\n",
    "        table = soup.find('table',{'class':'wikitable sortable'}).find_all('a')\n",
    "        first = 16\n",
    "    if ('frontier' in url_string.lower()):\n",
    "        table = soup.find('table',{'class':'sortable wikitable'}).find_all('a')\n",
    "        first = 16\n",
    "        \n",
    "    for link in table:\n",
    "        countries.append(link.get('title'))\n",
    "\n",
    "    \n",
    "    return countries[first:]"
   ]
  },
  {
   "cell_type": "code",
   "execution_count": 3,
   "id": "a640a046-7ec8-452c-b1ea-a73221336327",
   "metadata": {},
   "outputs": [],
   "source": [
    "pages = [\"https://en.wikipedia.org/wiki/Developed_market\",\n",
    "        \"https://en.wikipedia.org/wiki/Emerging_market\",\n",
    "    \"https://en.wikipedia.org/wiki/Frontier_markets\",\n",
    "    # \"least\":\"https://en.wikipedia.org/wiki/Least_developed_countries\" # no countries in this so we don't scrap\n",
    "        ]"
   ]
  },
  {
   "cell_type": "code",
   "execution_count": 4,
   "id": "16ce5bdf-dc77-4de0-8c10-37bb9f743688",
   "metadata": {},
   "outputs": [],
   "source": [
    "developed = pd.DataFrame(get_econ(pages[0]), columns=['country']).dropna()\n",
    "developed.insert(1, 'economic_class', 1)"
   ]
  },
  {
   "cell_type": "code",
   "execution_count": 5,
   "id": "4cb4cdf2-4bfe-400b-bde7-8e645ebf4c8a",
   "metadata": {},
   "outputs": [],
   "source": [
    "emerging = pd.DataFrame(get_econ(pages[1]), columns=['country'])\n",
    "emerging.insert(1, 'economic_class', 2)"
   ]
  },
  {
   "cell_type": "code",
   "execution_count": 6,
   "id": "d93a5038-a05d-4ea7-833e-1a410b2f4e94",
   "metadata": {},
   "outputs": [],
   "source": [
    "frontier = pd.DataFrame(get_econ(pages[2]), columns=['country']).dropna()\n",
    "frontier.insert(1, 'economic_class', 3)"
   ]
  },
  {
   "cell_type": "code",
   "execution_count": 7,
   "id": "ecbe2910-0784-4ef9-9dd9-6fbf304ad329",
   "metadata": {},
   "outputs": [],
   "source": [
    "total = pd.concat([developed, emerging, frontier])"
   ]
  },
  {
   "cell_type": "code",
   "execution_count": 8,
   "id": "766df77e-4ca6-4310-b100-f4c4b90aadae",
   "metadata": {},
   "outputs": [
    {
     "name": "stdout",
     "output_type": "stream",
     "text": [
      "<class 'pandas.core.frame.DataFrame'>\n",
      "Index: 108 entries, 0 to 46\n",
      "Data columns (total 2 columns):\n",
      " #   Column          Non-Null Count  Dtype \n",
      "---  ------          --------------  ----- \n",
      " 0   country         108 non-null    object\n",
      " 1   economic_class  108 non-null    int64 \n",
      "dtypes: int64(1), object(1)\n",
      "memory usage: 2.5+ KB\n"
     ]
    }
   ],
   "source": [
    "total.info()"
   ]
  },
  {
   "cell_type": "code",
   "execution_count": 9,
   "id": "89b5faa9-7aab-4f04-85e6-01324b795770",
   "metadata": {},
   "outputs": [],
   "source": [
    "billionaires = pd.read_csv('data/billionaires_subset.csv')"
   ]
  },
  {
   "cell_type": "code",
   "execution_count": 10,
   "id": "3502dc6c-013b-4825-8485-e0e9dce9b50e",
   "metadata": {},
   "outputs": [
    {
     "data": {
      "text/html": [
       "<div>\n",
       "<style scoped>\n",
       "    .dataframe tbody tr th:only-of-type {\n",
       "        vertical-align: middle;\n",
       "    }\n",
       "\n",
       "    .dataframe tbody tr th {\n",
       "        vertical-align: top;\n",
       "    }\n",
       "\n",
       "    .dataframe thead th {\n",
       "        text-align: right;\n",
       "    }\n",
       "</style>\n",
       "<table border=\"1\" class=\"dataframe\">\n",
       "  <thead>\n",
       "    <tr style=\"text-align: right;\">\n",
       "      <th></th>\n",
       "      <th>rank</th>\n",
       "      <th>finalWorth</th>\n",
       "      <th>category</th>\n",
       "      <th>personName</th>\n",
       "      <th>age</th>\n",
       "      <th>country</th>\n",
       "      <th>source</th>\n",
       "      <th>industries</th>\n",
       "      <th>status</th>\n",
       "      <th>gender</th>\n",
       "      <th>birthDate</th>\n",
       "      <th>gdp_country</th>\n",
       "      <th>life_expectancy_country</th>\n",
       "      <th>total_tax_rate_country</th>\n",
       "    </tr>\n",
       "  </thead>\n",
       "  <tbody>\n",
       "    <tr>\n",
       "      <th>0</th>\n",
       "      <td>1</td>\n",
       "      <td>211000</td>\n",
       "      <td>Fashion &amp; Retail</td>\n",
       "      <td>Bernard Arnault &amp; family</td>\n",
       "      <td>74.0</td>\n",
       "      <td>France</td>\n",
       "      <td>LVMH</td>\n",
       "      <td>Fashion &amp; Retail</td>\n",
       "      <td>U</td>\n",
       "      <td>M</td>\n",
       "      <td>3/5/1949 0:00</td>\n",
       "      <td>$2,715,518,274,227.00</td>\n",
       "      <td>82.5</td>\n",
       "      <td>60.7</td>\n",
       "    </tr>\n",
       "    <tr>\n",
       "      <th>1</th>\n",
       "      <td>2</td>\n",
       "      <td>180000</td>\n",
       "      <td>Automotive</td>\n",
       "      <td>Elon Musk</td>\n",
       "      <td>51.0</td>\n",
       "      <td>United States</td>\n",
       "      <td>Tesla, SpaceX</td>\n",
       "      <td>Automotive</td>\n",
       "      <td>D</td>\n",
       "      <td>M</td>\n",
       "      <td>6/28/1971 0:00</td>\n",
       "      <td>$21,427,700,000,000.00</td>\n",
       "      <td>78.5</td>\n",
       "      <td>36.6</td>\n",
       "    </tr>\n",
       "    <tr>\n",
       "      <th>2</th>\n",
       "      <td>3</td>\n",
       "      <td>114000</td>\n",
       "      <td>Technology</td>\n",
       "      <td>Jeff Bezos</td>\n",
       "      <td>59.0</td>\n",
       "      <td>United States</td>\n",
       "      <td>Amazon</td>\n",
       "      <td>Technology</td>\n",
       "      <td>D</td>\n",
       "      <td>M</td>\n",
       "      <td>1/12/1964 0:00</td>\n",
       "      <td>$21,427,700,000,000.00</td>\n",
       "      <td>78.5</td>\n",
       "      <td>36.6</td>\n",
       "    </tr>\n",
       "    <tr>\n",
       "      <th>3</th>\n",
       "      <td>4</td>\n",
       "      <td>107000</td>\n",
       "      <td>Technology</td>\n",
       "      <td>Larry Ellison</td>\n",
       "      <td>78.0</td>\n",
       "      <td>United States</td>\n",
       "      <td>Oracle</td>\n",
       "      <td>Technology</td>\n",
       "      <td>U</td>\n",
       "      <td>M</td>\n",
       "      <td>8/17/1944 0:00</td>\n",
       "      <td>$21,427,700,000,000.00</td>\n",
       "      <td>78.5</td>\n",
       "      <td>36.6</td>\n",
       "    </tr>\n",
       "    <tr>\n",
       "      <th>4</th>\n",
       "      <td>5</td>\n",
       "      <td>106000</td>\n",
       "      <td>Finance &amp; Investments</td>\n",
       "      <td>Warren Buffett</td>\n",
       "      <td>92.0</td>\n",
       "      <td>United States</td>\n",
       "      <td>Berkshire Hathaway</td>\n",
       "      <td>Finance &amp; Investments</td>\n",
       "      <td>D</td>\n",
       "      <td>M</td>\n",
       "      <td>8/30/1930 0:00</td>\n",
       "      <td>$21,427,700,000,000.00</td>\n",
       "      <td>78.5</td>\n",
       "      <td>36.6</td>\n",
       "    </tr>\n",
       "  </tbody>\n",
       "</table>\n",
       "</div>"
      ],
      "text/plain": [
       "   rank  finalWorth               category                personName   age  \\\n",
       "0     1      211000       Fashion & Retail  Bernard Arnault & family  74.0   \n",
       "1     2      180000             Automotive                 Elon Musk  51.0   \n",
       "2     3      114000             Technology                Jeff Bezos  59.0   \n",
       "3     4      107000             Technology             Larry Ellison  78.0   \n",
       "4     5      106000  Finance & Investments            Warren Buffett  92.0   \n",
       "\n",
       "         country              source             industries status gender  \\\n",
       "0         France                LVMH       Fashion & Retail      U      M   \n",
       "1  United States       Tesla, SpaceX             Automotive      D      M   \n",
       "2  United States              Amazon             Technology      D      M   \n",
       "3  United States              Oracle             Technology      U      M   \n",
       "4  United States  Berkshire Hathaway  Finance & Investments      D      M   \n",
       "\n",
       "        birthDate             gdp_country  life_expectancy_country  \\\n",
       "0   3/5/1949 0:00   $2,715,518,274,227.00                     82.5   \n",
       "1  6/28/1971 0:00  $21,427,700,000,000.00                     78.5   \n",
       "2  1/12/1964 0:00  $21,427,700,000,000.00                     78.5   \n",
       "3  8/17/1944 0:00  $21,427,700,000,000.00                     78.5   \n",
       "4  8/30/1930 0:00  $21,427,700,000,000.00                     78.5   \n",
       "\n",
       "   total_tax_rate_country  \n",
       "0                    60.7  \n",
       "1                    36.6  \n",
       "2                    36.6  \n",
       "3                    36.6  \n",
       "4                    36.6  "
      ]
     },
     "execution_count": 10,
     "metadata": {},
     "output_type": "execute_result"
    }
   ],
   "source": [
    "billionaires.head()"
   ]
  },
  {
   "cell_type": "code",
   "execution_count": 11,
   "id": "ac595465-66b6-4b45-9a1e-1b902497c0fa",
   "metadata": {},
   "outputs": [],
   "source": [
    "df = pd.merge(billionaires, total, left_on='country', right_on='country')"
   ]
  },
  {
   "cell_type": "code",
   "execution_count": 12,
   "id": "ce50ee58-41ee-4195-9b98-15aa3c1658a2",
   "metadata": {},
   "outputs": [
    {
     "name": "stdout",
     "output_type": "stream",
     "text": [
      "<class 'pandas.core.frame.DataFrame'>\n",
      "RangeIndex: 2652 entries, 0 to 2651\n",
      "Data columns (total 15 columns):\n",
      " #   Column                   Non-Null Count  Dtype  \n",
      "---  ------                   --------------  -----  \n",
      " 0   rank                     2652 non-null   int64  \n",
      " 1   finalWorth               2652 non-null   int64  \n",
      " 2   category                 2652 non-null   object \n",
      " 3   personName               2652 non-null   object \n",
      " 4   age                      2599 non-null   float64\n",
      " 5   country                  2652 non-null   object \n",
      " 6   source                   2652 non-null   object \n",
      " 7   industries               2652 non-null   object \n",
      " 8   status                   2652 non-null   object \n",
      " 9   gender                   2652 non-null   object \n",
      " 10  birthDate                2588 non-null   object \n",
      " 11  gdp_country              2541 non-null   object \n",
      " 12  life_expectancy_country  2541 non-null   float64\n",
      " 13  total_tax_rate_country   2541 non-null   float64\n",
      " 14  economic_class           2652 non-null   int64  \n",
      "dtypes: float64(3), int64(3), object(9)\n",
      "memory usage: 310.9+ KB\n"
     ]
    }
   ],
   "source": [
    "df.info()"
   ]
  },
  {
   "cell_type": "code",
   "execution_count": 13,
   "id": "07fe2a1b-fd14-4566-842c-d7ac30389b08",
   "metadata": {},
   "outputs": [],
   "source": [
    "edu = pd.read_csv('data/edu_level.csv')"
   ]
  },
  {
   "cell_type": "code",
   "execution_count": 14,
   "id": "e95674d0-ee1e-4a08-bc35-b0230b5e6b65",
   "metadata": {},
   "outputs": [],
   "source": [
    "df = pd.merge(billionaires, edu, how='left', left_on='personName', right_on='Name')\n",
    "# not dropping NA values for now"
   ]
  },
  {
   "cell_type": "code",
   "execution_count": 15,
   "id": "7b247d9d-fe33-4c75-b2f7-3b962ad0a5db",
   "metadata": {},
   "outputs": [],
   "source": [
    "df['Education'] = df['Education'].str.split(' ').str[0]"
   ]
  },
  {
   "cell_type": "code",
   "execution_count": 16,
   "id": "a07ca802-d3a0-458c-838c-642c016e25cd",
   "metadata": {},
   "outputs": [
    {
     "name": "stdout",
     "output_type": "stream",
     "text": [
      "<class 'pandas.core.frame.DataFrame'>\n",
      "RangeIndex: 2645 entries, 0 to 2644\n",
      "Data columns (total 16 columns):\n",
      " #   Column                   Non-Null Count  Dtype  \n",
      "---  ------                   --------------  -----  \n",
      " 0   rank                     2645 non-null   int64  \n",
      " 1   finalWorth               2645 non-null   int64  \n",
      " 2   category                 2645 non-null   object \n",
      " 3   personName               2645 non-null   object \n",
      " 4   age                      2580 non-null   float64\n",
      " 5   country                  2607 non-null   object \n",
      " 6   source                   2645 non-null   object \n",
      " 7   industries               2645 non-null   object \n",
      " 8   status                   2645 non-null   object \n",
      " 9   gender                   2645 non-null   object \n",
      " 10  birthDate                2569 non-null   object \n",
      " 11  gdp_country              2480 non-null   object \n",
      " 12  life_expectancy_country  2462 non-null   float64\n",
      " 13  total_tax_rate_country   2462 non-null   float64\n",
      " 14  Name                     2061 non-null   object \n",
      " 15  Education                1135 non-null   object \n",
      "dtypes: float64(3), int64(2), object(11)\n",
      "memory usage: 330.8+ KB\n"
     ]
    }
   ],
   "source": [
    "df.info()"
   ]
  },
  {
   "cell_type": "code",
   "execution_count": 17,
   "id": "84d0b3fc-fe64-4561-88b0-d019dab96e53",
   "metadata": {},
   "outputs": [
    {
     "data": {
      "text/html": [
       "<div>\n",
       "<style scoped>\n",
       "    .dataframe tbody tr th:only-of-type {\n",
       "        vertical-align: middle;\n",
       "    }\n",
       "\n",
       "    .dataframe tbody tr th {\n",
       "        vertical-align: top;\n",
       "    }\n",
       "\n",
       "    .dataframe thead th {\n",
       "        text-align: right;\n",
       "    }\n",
       "</style>\n",
       "<table border=\"1\" class=\"dataframe\">\n",
       "  <thead>\n",
       "    <tr style=\"text-align: right;\">\n",
       "      <th></th>\n",
       "      <th>rank</th>\n",
       "      <th>finalWorth</th>\n",
       "      <th>category</th>\n",
       "      <th>personName</th>\n",
       "      <th>age</th>\n",
       "      <th>country</th>\n",
       "      <th>source</th>\n",
       "      <th>industries</th>\n",
       "      <th>status</th>\n",
       "      <th>gender</th>\n",
       "      <th>birthDate</th>\n",
       "      <th>gdp_country</th>\n",
       "      <th>life_expectancy_country</th>\n",
       "      <th>total_tax_rate_country</th>\n",
       "      <th>Name</th>\n",
       "      <th>Education</th>\n",
       "    </tr>\n",
       "  </thead>\n",
       "  <tbody>\n",
       "    <tr>\n",
       "      <th>0</th>\n",
       "      <td>1</td>\n",
       "      <td>211000</td>\n",
       "      <td>Fashion &amp; Retail</td>\n",
       "      <td>Bernard Arnault &amp; family</td>\n",
       "      <td>74.0</td>\n",
       "      <td>France</td>\n",
       "      <td>LVMH</td>\n",
       "      <td>Fashion &amp; Retail</td>\n",
       "      <td>U</td>\n",
       "      <td>M</td>\n",
       "      <td>3/5/1949 0:00</td>\n",
       "      <td>$2,715,518,274,227.00</td>\n",
       "      <td>82.5</td>\n",
       "      <td>60.7</td>\n",
       "      <td>Bernard Arnault &amp; family</td>\n",
       "      <td>Bachelor</td>\n",
       "    </tr>\n",
       "    <tr>\n",
       "      <th>1</th>\n",
       "      <td>2</td>\n",
       "      <td>180000</td>\n",
       "      <td>Automotive</td>\n",
       "      <td>Elon Musk</td>\n",
       "      <td>51.0</td>\n",
       "      <td>United States</td>\n",
       "      <td>Tesla, SpaceX</td>\n",
       "      <td>Automotive</td>\n",
       "      <td>D</td>\n",
       "      <td>M</td>\n",
       "      <td>6/28/1971 0:00</td>\n",
       "      <td>$21,427,700,000,000.00</td>\n",
       "      <td>78.5</td>\n",
       "      <td>36.6</td>\n",
       "      <td>Elon Musk</td>\n",
       "      <td>Bachelor</td>\n",
       "    </tr>\n",
       "    <tr>\n",
       "      <th>2</th>\n",
       "      <td>3</td>\n",
       "      <td>114000</td>\n",
       "      <td>Technology</td>\n",
       "      <td>Jeff Bezos</td>\n",
       "      <td>59.0</td>\n",
       "      <td>United States</td>\n",
       "      <td>Amazon</td>\n",
       "      <td>Technology</td>\n",
       "      <td>D</td>\n",
       "      <td>M</td>\n",
       "      <td>1/12/1964 0:00</td>\n",
       "      <td>$21,427,700,000,000.00</td>\n",
       "      <td>78.5</td>\n",
       "      <td>36.6</td>\n",
       "      <td>Jeff Bezos</td>\n",
       "      <td>Bachelor</td>\n",
       "    </tr>\n",
       "  </tbody>\n",
       "</table>\n",
       "</div>"
      ],
      "text/plain": [
       "   rank  finalWorth          category                personName   age  \\\n",
       "0     1      211000  Fashion & Retail  Bernard Arnault & family  74.0   \n",
       "1     2      180000        Automotive                 Elon Musk  51.0   \n",
       "2     3      114000        Technology                Jeff Bezos  59.0   \n",
       "\n",
       "         country         source        industries status gender  \\\n",
       "0         France           LVMH  Fashion & Retail      U      M   \n",
       "1  United States  Tesla, SpaceX        Automotive      D      M   \n",
       "2  United States         Amazon        Technology      D      M   \n",
       "\n",
       "        birthDate             gdp_country  life_expectancy_country  \\\n",
       "0   3/5/1949 0:00   $2,715,518,274,227.00                     82.5   \n",
       "1  6/28/1971 0:00  $21,427,700,000,000.00                     78.5   \n",
       "2  1/12/1964 0:00  $21,427,700,000,000.00                     78.5   \n",
       "\n",
       "   total_tax_rate_country                      Name Education  \n",
       "0                    60.7  Bernard Arnault & family  Bachelor  \n",
       "1                    36.6                 Elon Musk  Bachelor  \n",
       "2                    36.6                Jeff Bezos  Bachelor  "
      ]
     },
     "execution_count": 17,
     "metadata": {},
     "output_type": "execute_result"
    }
   ],
   "source": [
    "df.head(3)"
   ]
  },
  {
   "cell_type": "code",
   "execution_count": 18,
   "id": "6c9ef2fe-2f77-4622-abe5-808114cf5a90",
   "metadata": {},
   "outputs": [
    {
     "data": {
      "text/plain": [
       "array(['Bachelor', 'Drop', 'Master', nan, 'Diploma,', 'Doctorate,',\n",
       "       'Master,', 'Associate', 'EMBA,', 'Medical', 'Ph.D,', 'LLB,',\n",
       "       'Northwestern', 'Graduate,', 'Law', 'Registered', 'Liaoning',\n",
       "       'State', 'National', 'Taipei', 'High', 'Doctor', 'Houston',\n",
       "       'Doctorate', 'LLM,', 'Chinese', 'Masters', 'B.Com,', 'Fordham',\n",
       "       'Harvard', 'University', 'Jiangsu', 'Chartered', 'Xiamen',\n",
       "       'London', 'Oregon', 'Waseda'], dtype=object)"
      ]
     },
     "execution_count": 18,
     "metadata": {},
     "output_type": "execute_result"
    }
   ],
   "source": [
    "df['Education'].unique()"
   ]
  }
 ],
 "metadata": {
  "kernelspec": {
   "display_name": "Python [conda env:320] *",
   "language": "python",
   "name": "conda-env-320-py"
  },
  "language_info": {
   "codemirror_mode": {
    "name": "ipython",
    "version": 3
   },
   "file_extension": ".py",
   "mimetype": "text/x-python",
   "name": "python",
   "nbconvert_exporter": "python",
   "pygments_lexer": "ipython3",
   "version": "3.9.18"
  }
 },
 "nbformat": 4,
 "nbformat_minor": 5
}
